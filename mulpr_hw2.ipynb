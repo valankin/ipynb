{
 "cells": [
  {
   "cell_type": "code",
   "execution_count": 6,
   "metadata": {
    "collapsed": false
   },
   "outputs": [],
   "source": [
    "import pandas as pd\n",
    "import matplotlib.pyplot as plt\n",
    "import numpy as np\n",
    "%matplotlib inline"
   ]
  },
  {
   "cell_type": "code",
   "execution_count": 7,
   "metadata": {
    "collapsed": false
   },
   "outputs": [
    {
     "name": "stdout",
     "output_type": "stream",
     "text": [
      "/home/uri/Developer/ipynb\n"
     ]
    }
   ],
   "source": [
    "%%bash\n",
    "pwd"
   ]
  },
  {
   "cell_type": "code",
   "execution_count": 8,
   "metadata": {
    "collapsed": false
   },
   "outputs": [],
   "source": [
    "dump = pd.read_csv('/home/uri/Developer/thread_dump_sync.csv',sep=';',header=None)\n",
    "dump.columns = ['n','timedelta','states']"
   ]
  },
  {
   "cell_type": "code",
   "execution_count": 9,
   "metadata": {
    "collapsed": false
   },
   "outputs": [],
   "source": [
    "aggregate =  dump.groupby(['n']).agg({'timedelta':np.mean,'states':np.mean}).reset_index()"
   ]
  },
  {
   "cell_type": "code",
   "execution_count": 10,
   "metadata": {
    "collapsed": false
   },
   "outputs": [],
   "source": [
    "aggregate['throughput'] = aggregate.states/aggregate.timedelta"
   ]
  },
  {
   "cell_type": "code",
   "execution_count": 11,
   "metadata": {
    "collapsed": false
   },
   "outputs": [],
   "source": [
    "aggregate['latency'] = 1/aggregate.throughput"
   ]
  },
  {
   "cell_type": "code",
   "execution_count": 12,
   "metadata": {
    "collapsed": false,
    "scrolled": true
   },
   "outputs": [
    {
     "data": {
      "text/html": [
       "<div>\n",
       "<table border=\"1\" class=\"dataframe\">\n",
       "  <thead>\n",
       "    <tr style=\"text-align: right;\">\n",
       "      <th></th>\n",
       "      <th>n</th>\n",
       "      <th>states</th>\n",
       "      <th>timedelta</th>\n",
       "      <th>throughput</th>\n",
       "      <th>latency</th>\n",
       "    </tr>\n",
       "  </thead>\n",
       "  <tbody>\n",
       "    <tr>\n",
       "      <th>0</th>\n",
       "      <td>2</td>\n",
       "      <td>100000</td>\n",
       "      <td>6625994152</td>\n",
       "      <td>1.509207e-05</td>\n",
       "      <td>6.625994e+04</td>\n",
       "    </tr>\n",
       "    <tr>\n",
       "      <th>1</th>\n",
       "      <td>4</td>\n",
       "      <td>100000</td>\n",
       "      <td>4248619247</td>\n",
       "      <td>2.353706e-05</td>\n",
       "      <td>4.248619e+04</td>\n",
       "    </tr>\n",
       "    <tr>\n",
       "      <th>2</th>\n",
       "      <td>8</td>\n",
       "      <td>100000</td>\n",
       "      <td>5946946159</td>\n",
       "      <td>1.681535e-05</td>\n",
       "      <td>5.946946e+04</td>\n",
       "    </tr>\n",
       "    <tr>\n",
       "      <th>3</th>\n",
       "      <td>16</td>\n",
       "      <td>100000</td>\n",
       "      <td>10845945508</td>\n",
       "      <td>9.220035e-06</td>\n",
       "      <td>1.084595e+05</td>\n",
       "    </tr>\n",
       "    <tr>\n",
       "      <th>4</th>\n",
       "      <td>32</td>\n",
       "      <td>100000</td>\n",
       "      <td>20268237468</td>\n",
       "      <td>4.933828e-06</td>\n",
       "      <td>2.026824e+05</td>\n",
       "    </tr>\n",
       "    <tr>\n",
       "      <th>5</th>\n",
       "      <td>64</td>\n",
       "      <td>100000</td>\n",
       "      <td>53637241980</td>\n",
       "      <td>1.864376e-06</td>\n",
       "      <td>5.363724e+05</td>\n",
       "    </tr>\n",
       "    <tr>\n",
       "      <th>6</th>\n",
       "      <td>128</td>\n",
       "      <td>100000</td>\n",
       "      <td>137266519565</td>\n",
       "      <td>7.285098e-07</td>\n",
       "      <td>1.372665e+06</td>\n",
       "    </tr>\n",
       "  </tbody>\n",
       "</table>\n",
       "</div>"
      ],
      "text/plain": [
       "     n  states     timedelta    throughput       latency\n",
       "0    2  100000    6625994152  1.509207e-05  6.625994e+04\n",
       "1    4  100000    4248619247  2.353706e-05  4.248619e+04\n",
       "2    8  100000    5946946159  1.681535e-05  5.946946e+04\n",
       "3   16  100000   10845945508  9.220035e-06  1.084595e+05\n",
       "4   32  100000   20268237468  4.933828e-06  2.026824e+05\n",
       "5   64  100000   53637241980  1.864376e-06  5.363724e+05\n",
       "6  128  100000  137266519565  7.285098e-07  1.372665e+06"
      ]
     },
     "execution_count": 12,
     "metadata": {},
     "output_type": "execute_result"
    }
   ],
   "source": [
    "aggregate"
   ]
  },
  {
   "cell_type": "code",
   "execution_count": 13,
   "metadata": {
    "collapsed": true
   },
   "outputs": [],
   "source": [
    "annotations = [2**x for x in xrange(len(aggregate))]"
   ]
  },
  {
   "cell_type": "code",
   "execution_count": 21,
   "metadata": {
    "collapsed": false
   },
   "outputs": [],
   "source": [
    "def plot(num_threads,throughput):\n",
    "    plt.figure(figsize=(20,10))\n",
    "    plt.subplot(221)\n",
    "    plt.plot(num_threads,throughput*10**9)\n",
    "    #plt.scatter(aggregate.n,aggregate.throughput*10**9)\n",
    "    plt.title(\"throughput\")\n",
    "    plt.grid(True)\n",
    "    plt.ylabel(r\"$ \\frac{states}{sec} $\")\n",
    "    plt.xlabel('number of threads')\n",
    "    #plt.xticks([x for x in xrange(6)])\n",
    "    #plt.savefig('M100.jpg')\n",
    "    plt.subplot(222)\n",
    "    plt.plot(num_threads,1/(throughput*10**9) * 10**4)\n",
    "    plt.title(r\"latency\")\n",
    "    plt.grid(True)\n",
    "    plt.ylabel('$ sec^{-1} * 10^4 $')\n",
    "    plt.xlabel('number of threads')\n",
    "    #plt.savefig('/home/uri/Developer/lock.jpg')\n",
    "    plt.show()"
   ]
  },
  {
   "cell_type": "code",
   "execution_count": 20,
   "metadata": {
    "collapsed": false
   },
   "outputs": [
    {
     "data": {
      "image/png": "[encoded data removed]",
      "text/plain": [
       "<matplotlib.figure.Figure at 0x7f1939bda890>"
      ]
     },
     "metadata": {},
     "output_type": "display_data"
    }
   ],
   "source": [
    "plot(aggregate.n,aggregate.throughput)"
   ]
  },
  {
   "cell_type": "code",
   "execution_count": 22,
   "metadata": {
    "collapsed": true
   },
   "outputs": [],
   "source": [
    "dump = pd.read_csv('/home/uri/Developer/thread_dump_lock.csv',sep=';',header=None)\n",
    "dump.columns = ['n','timedelta','states']\n",
    "aggregate =  dump.groupby(['n']).agg({'timedelta':np.mean,'states':np.mean}).reset_index()\n",
    "aggregate['throughput'] = aggregate.states/aggregate.timedelta"
   ]
  },
  {
   "cell_type": "code",
   "execution_count": 23,
   "metadata": {
    "collapsed": false
   },
   "outputs": [
    {
     "data": {
      "text/html": [
       "<div>\n",
       "<table border=\"1\" class=\"dataframe\">\n",
       "  <thead>\n",
       "    <tr style=\"text-align: right;\">\n",
       "      <th></th>\n",
       "      <th>n</th>\n",
       "      <th>states</th>\n",
       "      <th>timedelta</th>\n",
       "      <th>throughput</th>\n",
       "    </tr>\n",
       "  </thead>\n",
       "  <tbody>\n",
       "    <tr>\n",
       "      <th>0</th>\n",
       "      <td>2</td>\n",
       "      <td>10000</td>\n",
       "      <td>677912082</td>\n",
       "      <td>1.475118e-05</td>\n",
       "    </tr>\n",
       "    <tr>\n",
       "      <th>1</th>\n",
       "      <td>4</td>\n",
       "      <td>10000</td>\n",
       "      <td>764378588</td>\n",
       "      <td>1.308252e-05</td>\n",
       "    </tr>\n",
       "    <tr>\n",
       "      <th>2</th>\n",
       "      <td>8</td>\n",
       "      <td>10000</td>\n",
       "      <td>1383779013</td>\n",
       "      <td>7.226587e-06</td>\n",
       "    </tr>\n",
       "    <tr>\n",
       "      <th>3</th>\n",
       "      <td>16</td>\n",
       "      <td>10000</td>\n",
       "      <td>1450646917</td>\n",
       "      <td>6.893476e-06</td>\n",
       "    </tr>\n",
       "    <tr>\n",
       "      <th>4</th>\n",
       "      <td>32</td>\n",
       "      <td>10000</td>\n",
       "      <td>1479660053</td>\n",
       "      <td>6.758309e-06</td>\n",
       "    </tr>\n",
       "    <tr>\n",
       "      <th>5</th>\n",
       "      <td>64</td>\n",
       "      <td>10000</td>\n",
       "      <td>3797788998</td>\n",
       "      <td>2.633111e-06</td>\n",
       "    </tr>\n",
       "    <tr>\n",
       "      <th>6</th>\n",
       "      <td>128</td>\n",
       "      <td>10000</td>\n",
       "      <td>5136983533</td>\n",
       "      <td>1.946668e-06</td>\n",
       "    </tr>\n",
       "    <tr>\n",
       "      <th>7</th>\n",
       "      <td>256</td>\n",
       "      <td>10000</td>\n",
       "      <td>7620508391</td>\n",
       "      <td>1.312248e-06</td>\n",
       "    </tr>\n",
       "    <tr>\n",
       "      <th>8</th>\n",
       "      <td>512</td>\n",
       "      <td>10000</td>\n",
       "      <td>10412908748</td>\n",
       "      <td>9.603465e-07</td>\n",
       "    </tr>\n",
       "  </tbody>\n",
       "</table>\n",
       "</div>"
      ],
      "text/plain": [
       "     n  states    timedelta    throughput\n",
       "0    2   10000    677912082  1.475118e-05\n",
       "1    4   10000    764378588  1.308252e-05\n",
       "2    8   10000   1383779013  7.226587e-06\n",
       "3   16   10000   1450646917  6.893476e-06\n",
       "4   32   10000   1479660053  6.758309e-06\n",
       "5   64   10000   3797788998  2.633111e-06\n",
       "6  128   10000   5136983533  1.946668e-06\n",
       "7  256   10000   7620508391  1.312248e-06\n",
       "8  512   10000  10412908748  9.603465e-07"
      ]
     },
     "execution_count": 23,
     "metadata": {},
     "output_type": "execute_result"
    }
   ],
   "source": [
    "aggregate"
   ]
  },
  {
   "cell_type": "code",
   "execution_count": 24,
   "metadata": {
    "collapsed": false
   },
   "outputs": [
    {
     "data": {
      "image/png": "[encoded data removed]",
      "text/plain": [
       "<matplotlib.figure.Figure at 0x7f193d62a110>"
      ]
     },
     "metadata": {},
     "output_type": "display_data"
    }
   ],
   "source": [
    "plot(aggregate.n,aggregate.throughput)"
   ]
  },
  {
   "cell_type": "code",
   "execution_count": null,
   "metadata": {
    "collapsed": true
   },
   "outputs": [],
   "source": []
  }
 ],
 "metadata": {
  "kernelspec": {
   "display_name": "Python [Root]",
   "language": "python",
   "name": "Python [Root]"
  },
  "language_info": {
   "codemirror_mode": {
    "name": "ipython",
    "version": 2
   },
   "file_extension": ".py",
   "mimetype": "text/x-python",
   "name": "python",
   "nbconvert_exporter": "python",
   "pygments_lexer": "ipython2",
   "version": "2.7.11"
  }
 },
 "nbformat": 4,
 "nbformat_minor": 0
}
