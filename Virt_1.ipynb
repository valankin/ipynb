{
 "cells": [
  {
   "cell_type": "markdown",
   "metadata": {},
   "source": [
    "### Which and where"
   ]
  },
  {
   "cell_type": "markdown",
   "metadata": {},
   "source": [
    "Parallels desktop, server - paravirt"
   ]
  },
  {
   "cell_type": "markdown",
   "metadata": {},
   "source": [
    "Vmware Server, workstation - (+ESX on bare metal) ,HV2 , virt x86"
   ]
  },
  {
   "cell_type": "markdown",
   "metadata": {},
   "source": [
    "HyperV - Hardware"
   ]
  },
  {
   "cell_type": "markdown",
   "metadata": {},
   "source": [
    "Xen - para-virtualizations, hardware assisted virtualization, live migration"
   ]
  },
  {
   "cell_type": "markdown",
   "metadata": {},
   "source": [
    "Qemu - binaty translation"
   ]
  },
  {
   "cell_type": "markdown",
   "metadata": {},
   "source": [
    "Wine - Application virtualization "
   ]
  },
  {
   "cell_type": "markdown",
   "metadata": {},
   "source": [
    "NativeClient - may be application virt"
   ]
  },
  {
   "cell_type": "markdown",
   "metadata": {},
   "source": [
    "JVM - Binary translation with HV?"
   ]
  },
  {
   "cell_type": "markdown",
   "metadata": {},
   "source": [
    "Rosetta - dynamic binary translation"
   ]
  },
  {
   "cell_type": "markdown",
   "metadata": {},
   "source": [
    "Docker - hypervisor on host os"
   ]
  },
  {
   "cell_type": "markdown",
   "metadata": {},
   "source": [
    "Proofs:\n",
    "\n",
    "http://slideplayer.com/slide/10869787/\n",
    "\n",
    "https://ru.wikipedia.org/wiki/%D0%A1%D1%80%D0%B0%D0%B2%D0%BD%D0%B5%D0%BD%D0%B8%D0%B5_%D0%B2%D0%B8%D1%80%D1%82%D1%83%D0%B0%D0%BB%D1%8C%D0%BD%D1%8B%D1%85_%D0%BC%D0%B0%D1%88%D0%B8%D0%BD\n",
    "\n",
    "https://books.google.ru/books?id=WfIFiEs0HQ8C&pg=PA415&lpg=PA415&dq=Native+Client++virtualization+technique&source=bl&ots=6MA46fJuF4&sig=i7uhKhePVoqzCSMoED17gf_fe_s&hl=ru&sa=X&ved=0ahUKEwiZ5vfK3KjQAhXFhywKHSnxCnwQ6AEIQzAF#v=onepage&q=Native%20Client%20%20virtualization%20technique&f=false\n",
    "\n",
    "http://docplayer.net/4553832-Jvm-level-virtualization.html\n",
    "\n",
    "https://en.wikipedia.org/wiki/Rosetta_(software)"
   ]
  },
  {
   "cell_type": "markdown",
   "metadata": {},
   "source": [
    "## Assignment 4"
   ]
  },
  {
   "cell_type": "markdown",
   "metadata": {},
   "source": [
    "### 1. What hashing algorithm is used in KSM in Linux kernel?"
   ]
  },
  {
   "cell_type": "markdown",
   "metadata": {},
   "source": [
    "checksum=jhash2\n",
    "\n",
    "defenition: http://lxr.free-electrons.com/source/include/linux/jhash.h?v=3.4#L117\n",
    "\n",
    "usage: http://lxr.free-electrons.com/source/mm/ksm.c?v=3.4#L680"
   ]
  },
  {
   "cell_type": "code",
   "execution_count": null,
   "metadata": {
    "collapsed": false
   },
   "outputs": [],
   "source": [
    "static u32 calc_checksum(struct page *page)\n",
    "{\n",
    "         u32 checksum;\n",
    "         void *addr = kmap_atomic(page);\n",
    "         checksum = jhash2(addr, PAGE_SIZE / 4, 17);\n",
    "         kunmap_atomic(addr);\n",
    "         return checksum;\n",
    "}"
   ]
  },
  {
   "cell_type": "markdown",
   "metadata": {},
   "source": [
    "### 2.  Please describe in some native language with your words your favourite hashing algorithm?"
   ]
  },
  {
   "cell_type": "markdown",
   "metadata": {},
   "source": [
    "Mine is Murmurhash3 : "
   ]
  },
  {
   "cell_type": "code",
   "execution_count": null,
   "metadata": {
    "collapsed": true
   },
   "outputs": [],
   "source": [
    "murmurhash (key, len, seed) {\n",
    "  c1 = 0xcc9e2d51;\n",
    "  c2 = 0x1b873593;\n",
    "  r1 = 15;\n",
    "  r2 = 13;\n",
    "  m = 5;\n",
    "  n = 0xe6546b64;\n",
    "  h = 0;\n",
    "  k = 0;\n",
    "  d = (uint8_t *) key; # 32 bit extract from `key'\n",
    "  chunks = NULL;\n",
    "  tail = NULL; # tail - last 8 bytes\n",
    "  i = 0;\n",
    "  l = len / 4; # chunk length\n",
    "  h = seed;\n",
    "\n",
    "  chunks = d + l * 4; # body\n",
    "  tail = d + l * 4; # last 8 byte chunk of `key'\n",
    "\n",
    "  # for each 4 byte chunk of `key'\n",
    "  for (i = -l; i != 0; ++i) {\n",
    "    # next 4 byte chunk of `key'\n",
    "    k = chunks[i];\n",
    "\n",
    "    # encode next 4 byte chunk of `key'\n",
    "    k *= c1;\n",
    "    k = (k << r1) | (k >> (32 - r1));\n",
    "    k *= c2;\n",
    "\n",
    "    # append to hash\n",
    "    h ^= k;\n",
    "    h = (h << r2) | (h >> (32 - r2));\n",
    "    h = h * m + n;\n",
    "  }\n",
    "\n",
    "  k = 0;\n",
    "\n",
    "  # remainder\n",
    "  switch (len & 3) { # `len % 4'\n",
    "    case 3: k ^= (tail[2] << 16);\n",
    "    case 2: k ^= (tail[1] << 8);\n",
    "\n",
    "    case 1:\n",
    "      k ^= tail[0];\n",
    "      k *= c1;\n",
    "      k = (k << r1) | (k >> (32 - r1));\n",
    "      k *= c2;\n",
    "      h ^= k;\n",
    "  }\n",
    "\n",
    "  h ^= len;\n",
    "\n",
    "  h ^= (h >> 16);\n",
    "  h *= 0x85ebca6b;\n",
    "  h ^= (h >> 13);\n",
    "  h *= 0xc2b2ae35;\n",
    "  h ^= (h >> 16);\n",
    "\n",
    "  return h;\n",
    "}"
   ]
  },
  {
   "cell_type": "markdown",
   "metadata": {},
   "source": [
    "### 3.  What compression is used in zswap in Linux?"
   ]
  },
  {
   "cell_type": "markdown",
   "metadata": {},
   "source": [
    "lzo or lz4(faster,deflate, but less compression)"
   ]
  },
  {
   "cell_type": "markdown",
   "metadata": {},
   "source": [
    "### 4.   Virtio"
   ]
  },
  {
   "cell_type": "markdown",
   "metadata": {},
   "source": [
    "####   Which devices are supported?"
   ]
  },
  {
   "cell_type": "markdown",
   "metadata": {},
   "source": [
    "Networking : virtio-net-pci\n",
    "\n",
    "Storage : virtio-scsi-pci\n",
    "\n",
    "Memory : virtio-balloon-pci\n",
    "\n",
    "Serial : virtio-serial-pci\n",
    "\n",
    "Random Number Generator : virtio-rng-pci"
   ]
  },
  {
   "cell_type": "markdown",
   "metadata": {},
   "source": [
    "##### My platform"
   ]
  },
  {
   "cell_type": "markdown",
   "metadata": {},
   "source": [
    "$ ~$ kvm -net nic,model=? \n",
    "\n",
    "$ ~$ qemu: Supported NIC models: ne2k_pci,i82551,i82557b,i82559er,rtl8139,e1000,pcnet,virtio "
   ]
  },
  {
   "cell_type": "code",
   "execution_count": null,
   "metadata": {
    "collapsed": true
   },
   "outputs": [],
   "source": []
  }
 ],
 "metadata": {
  "kernelspec": {
   "display_name": "Python [Root]",
   "language": "python",
   "name": "Python [Root]"
  },
  "language_info": {
   "codemirror_mode": {
    "name": "ipython",
    "version": 2
   },
   "file_extension": ".py",
   "mimetype": "text/x-python",
   "name": "python",
   "nbconvert_exporter": "python",
   "pygments_lexer": "ipython2",
   "version": "2.7.11"
  }
 },
 "nbformat": 4,
 "nbformat_minor": 0
}
